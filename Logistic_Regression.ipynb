{
  "nbformat": 4,
  "nbformat_minor": 0,
  "metadata": {
    "colab": {
      "provenance": []
    },
    "kernelspec": {
      "name": "python3",
      "display_name": "Python 3"
    },
    "language_info": {
      "name": "python"
    }
  },
  "cells": [
    {
      "cell_type": "code",
      "execution_count": 3,
      "metadata": {
        "id": "BFWEpcdXr4ko"
      },
      "outputs": [],
      "source": [
        "import numpy as np\n",
        "import pandas as pd\n",
        "from sklearn.model_selection import train_test_split\n",
        "from sklearn.metrics import precision_score,recall_score,accuracy_score,confusion_matrix\n",
        "from sklearn.linear_model import LogisticRegression"
      ]
    },
    {
      "cell_type": "code",
      "source": [
        "df=pd.read_csv(\"heart.csv\")\n",
        "print(df.head())\n",
        "x=df.drop(columns=['target'])\n",
        "y=df['target']\n",
        "x_train,x_test,y_train,y_test=train_test_split(x,y,test_size=0.3,random_state=1)"
      ],
      "metadata": {
        "colab": {
          "base_uri": "https://localhost:8080/"
        },
        "id": "_41EtWn5sC49",
        "outputId": "f2016db1-fb52-4f04-9d53-3b60c8d04417"
      },
      "execution_count": 11,
      "outputs": [
        {
          "output_type": "stream",
          "name": "stdout",
          "text": [
            "   age  sex  cp  trestbps  chol  fbs  restecg  thalach  exang  oldpeak  slope  \\\n",
            "0   63    1   0       145   233    1        2      150      0      2.3      2   \n",
            "1   67    1   3       160   286    0        2      108      1      1.5      1   \n",
            "2   67    1   3       120   229    0        2      129      1      2.6      1   \n",
            "3   37    1   2       130   250    0        0      187      0      3.5      2   \n",
            "4   41    0   1       130   204    0        2      172      0      1.4      0   \n",
            "\n",
            "   ca  thal  target  \n",
            "0   0     2       0  \n",
            "1   3     1       1  \n",
            "2   2     3       1  \n",
            "3   0     1       0  \n",
            "4   0     1       0  \n"
          ]
        }
      ]
    },
    {
      "cell_type": "code",
      "source": [
        "model=LogisticRegression(max_iter=1000)\n",
        "model.fit(x_train,y_train)\n",
        "y_pred=model.predict(x_test)\n",
        "pre=precision_score(y_test,y_pred)\n",
        "print(\"precision :{:.2f} \".format(pre*100))\n",
        "re=recall_score(y_test,y_pred)\n",
        "print(\"recall:{:.2f}\".format(re*100))\n",
        "accu=accuracy_score(y_test,y_pred)\n",
        "print(\"accuracy:{:.2f} \".format(accu*100))\n",
        "co=confusion_matrix(y_test,y_pred)\n",
        "print(\"confusion matrix :\\n \",co) #b dff=df.sort_values(by='age')"
      ],
      "metadata": {
        "colab": {
          "base_uri": "https://localhost:8080/"
        },
        "id": "0pKzDknmsIb6",
        "outputId": "a738d763-372b-409b-c1ac-f686e23c433c"
      },
      "execution_count": 12,
      "outputs": [
        {
          "output_type": "stream",
          "name": "stdout",
          "text": [
            "precision :84.09 \n",
            "recall:88.10\n",
            "accuracy:86.81 \n",
            "confusion matrix :\n",
            "  [[42  7]\n",
            " [ 5 37]]\n"
          ]
        }
      ]
    }
  ]
}